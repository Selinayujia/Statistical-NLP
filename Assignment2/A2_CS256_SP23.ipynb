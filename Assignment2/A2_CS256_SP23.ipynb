{
  "nbformat": 4,
  "nbformat_minor": 0,
  "metadata": {
    "accelerator": "GPU",
    "colab": {
      "provenance": [],
      "gpuType": "T4",
      "private_outputs": true
    },
    "kernelspec": {
      "display_name": "Python 3",
      "name": "python3"
    },
    "gpuClass": "standard"
  },
  "cells": [
    {
      "cell_type": "markdown",
      "source": [
        "# Part 1: Data Collection\n",
        "\n",
        "In this assignment, you will first identify or annotate a text dataset, with at least **120 labeled sentences** (more is better),  for a text classification task of your choice. Any text data is fine: e.g., news articles, reviews, legal docs, medical docs.  The dataset should allow you to create a **binary text classification task (two labels only)**. Feel free to look at  [Hugging Face datasets](https://huggingface.co/datasets) or  [Kaggle](https://www.kaggle.com/datasets?fileType=csv), or other places.  \n",
        "\n",
        "*You are welcome to annotate your own dataset, just make sure it is not a task that is trivally solvable*.\n"
      ],
      "metadata": {
        "id": "DnocitP0wari"
      }
    },
    {
      "cell_type": "markdown",
      "metadata": {
        "id": "SgNZTjrhcHa0"
      },
      "source": [
        "# CSE 256: Statistical NLP UCSD Assignment 2\n",
        "## Text Classification with Pretrained Language Models (40 points)\n",
        "### <font color='blue'> Due: Friday May 12, 2023 at  10pm </font>\n",
        "\n",
        "###### IMPORTANT: After copying this notebook to your Google Drive, paste a link to it below. To get a publicly-accessible link, click the *Share* button at the top right, then click \"Get shareable link\" and copy the link. \n",
        "#### <font color=\"red\">Link: paste your link here:  </font>\n",
        "\n",
        "\n",
        "https://colab.research.google.com/drive/1W-zu-a6mPJbi3H9MPly8KgO5Awoh8P8i?usp=sharing\n",
        "---\n",
        "**Notes:**\n",
        "\n",
        "Make sure to save the notebook as you go along.\n",
        "\n",
        "Submission instructions are located at the bottom of the notebook."
      ]
    },
    {
      "cell_type": "markdown",
      "source": [
        "## Question 1.1 (10 points):\n",
        "Give a brief summary of the dataset you picked.\n",
        "Biefly describe the text classification task, and why it is a non-trivial task.\n",
        "Provide basic statistics of the dataset (include: how many labeled examples, how many unique words) \n",
        "\n"
      ],
      "metadata": {
        "id": "AdZg5OFuyn7P"
      }
    },
    {
      "cell_type": "markdown",
      "source": [
        "#### <font color=\"red\">Write your answer here (< 6 sentences) </font>\n",
        "\n",
        "I picked a dataset from hugging face called \"poem_sentiment\", it is a dataset with poem verses and their sentiment labels, 0 as a negative sentiment label and 1 as a positive sentiment label. There are mix/neutral sentiment labels which I stripped for binary text classification. After processing, there are in total 288 data points, which includes 155 negative data labels and 133 positive data labels. Base on the number this is a relatively balanced dataset. After stripping puncturation marks, there are 1010 unique words in these verses.\n"
      ],
      "metadata": {
        "id": "f5S2pJxjzSKX"
      }
    },
    {
      "cell_type": "markdown",
      "metadata": {
        "id": "d23zfO_ALKeB"
      },
      "source": [
        "# Part 2: Text classification"
      ]
    },
    {
      "cell_type": "markdown",
      "metadata": {
        "id": "N25dvF4jvYoy"
      },
      "source": [
        "In this part, you will fine-tune  pretrained language models on your dataset. This part is meant to be an introduction to the HuggingFace library, and it contains code that will potentially be useful for your final projecs. Since we're dealing with large models, the first step is to change to a GPU runtime.\n",
        "\n",
        "## Adding a hardware accelerator\n",
        "\n",
        "Go to the menu and add a GPU as follows:\n",
        "\n",
        "`Edit > Notebook Settings > Hardware accelerator > (GPU)`\n",
        "\n",
        "Run the following cell to confirm that the GPU is detected."
      ]
    },
    {
      "cell_type": "code",
      "metadata": {
        "id": "edOh9ooiIW1B"
      },
      "source": [
        "import torch\n",
        "\n",
        "# Confirm that the GPU is detected\n",
        "\n",
        "assert torch.cuda.is_available()\n",
        "\n",
        "# Get the GPU device name.\n",
        "device_name = torch.cuda.get_device_name()\n",
        "n_gpu = torch.cuda.device_count()\n",
        "print(f\"Found device: {device_name}, n_gpu: {n_gpu}\")\n",
        "device = torch.device(\"cuda\")"
      ],
      "execution_count": null,
      "outputs": []
    },
    {
      "cell_type": "markdown",
      "metadata": {
        "id": "xrvH7xx9LnMC"
      },
      "source": [
        "## Installing Hugging Face's Transformers library\n",
        "We will use Hugging Face's Transformers (https://github.com/huggingface/transformers), an open-source library that provides general-purpose architectures for natural language understanding and generation with a collection of various pretrained models made by the NLP community. This library will allow us to easily use pretrained models like `BERT` and perform experiments on top of them. We can use these models to solve downstream target tasks, such as text classification, question answering, and sequence labeling.\n",
        "\n",
        "Run the following cell to install Hugging Face's Transformers library and download a sample data file called tweets.csv that contains tweets about airlines along with a negative, neutral, or positive sentiment rating. Note that you will be asked to link with your Google Drive account to download some of these files. If you're concerned about security risks (there have not been any issues in previous semesters), feel free to make a new Google account and use it for this assignment! alternatively, you can manually download the files from our [Google drive](https://drive.google.com/drive/folders/1M6JwwGXS5RpylWe7G9TEmC5a7PtrMMQk?usp=sharing), and read them directly in your notebook instead of using the PyDrive API."
      ]
    },
    {
      "cell_type": "code",
      "source": [
        "!pip install datasets\n",
        "from datasets import load_dataset\n",
        "dataset = load_dataset('poem_sentiment', split='train')"
      ],
      "metadata": {
        "id": "ppUjUQL5ezDM"
      },
      "execution_count": null,
      "outputs": []
    },
    {
      "cell_type": "code",
      "source": [
        "import string\n",
        "import collections\n",
        "import random\n",
        "binary_dataset = []\n",
        "word_dic = collections.defaultdict(int)\n",
        "negative_label_count = 0\n",
        "positive_label_count = 0\n",
        "\n",
        "for data in dataset:\n",
        "  label = data['label']\n",
        "  if label == 0 or label == 1:\n",
        "    if label == 0:\n",
        "      negative_label_count += 1\n",
        "    else:\n",
        "      positive_label_count += 1\n",
        "\n",
        "    verse = data['verse_text']\n",
        "    verse = verse.translate(str.maketrans('', '', string.punctuation))\n",
        "    # maybe use verse without puncturation ?\n",
        "  \n",
        "    for word in verse.split(' '):\n",
        "      word_dic[word] += 1\n",
        "    binary_dataset.append(data)\n",
        "\n",
        "random.Random(0).shuffle(binary_dataset)\n",
        "print(len(word_dic)) #how many unique word\n",
        "print(negative_label_count) # how many negative label\n",
        "print(positive_label_count) # how many positive label\n",
        "  "
      ],
      "metadata": {
        "id": "imQqYTHYiK8Q"
      },
      "execution_count": null,
      "outputs": []
    },
    {
      "cell_type": "markdown",
      "source": [],
      "metadata": {
        "id": "FGUIIgCziKVM"
      }
    },
    {
      "cell_type": "code",
      "metadata": {
        "id": "gtqS2e5fxpqa"
      },
      "source": [
        "!pip install transformers\n",
        "!pip install -U -q PyDrive\n",
        "\n",
        "from pydrive.auth import GoogleAuth\n",
        "from pydrive.drive import GoogleDrive\n",
        "from google.colab import auth\n",
        "from oauth2client.client import GoogleCredentials\n",
        "# Authenticate and create the PyDrive client.\n",
        "auth.authenticate_user()\n",
        "gauth = GoogleAuth()\n",
        "gauth.credentials = GoogleCredentials.get_application_default()\n",
        "drive = GoogleDrive(gauth)\n",
        "print('success!')\n",
        "\n",
        "import os\n",
        "import zipfile\n",
        "\n",
        "# Download helper functions file\n",
        "helper_file = drive.CreateFile({'id': '1XHV97dCHMmsekJyXRduB9Q0sCWLylwrh'})\n",
        "helper_file.GetContentFile('helpers.py')\n",
        "print('helper file downloaded! (helpers.py)')\n",
        "\n",
        "# Download sample file of tweets                      \n",
        "data_file = drive.CreateFile({'id': '1pJephA7sBxMbshTtzLAhtzjQrwkfJSzu'})\n",
        "data_file.GetContentFile('tweets.csv')\n",
        "print('sample tweets downloaded! (tweets.csv)')"
      ],
      "execution_count": null,
      "outputs": []
    },
    {
      "cell_type": "markdown",
      "metadata": {
        "id": "-8XIL7wPovVX"
      },
      "source": [
        "The cell below imports some helper functions to demonstrate the task on the sample tweet dataset."
      ]
    },
    {
      "cell_type": "code",
      "metadata": {
        "id": "Taseb33Sovg0"
      },
      "source": [
        "from helpers import tokenize_and_format, flat_accuracy"
      ],
      "execution_count": null,
      "outputs": []
    },
    {
      "cell_type": "markdown",
      "metadata": {
        "id": "gKc0xYh-MAbc"
      },
      "source": [
        "# Data Prep and Model Specification\n",
        "\n",
        "Upload your data using the file explorer to the left. We have provided a function below to tokenize and format your data as BERT requires. Make sure that your csv file, titled **my_data.csv**, has one column \"text\" and another column \"labels\" containing integers. If your dataset comes pre-split, you may choose just the train split for the purpose of this assignment, or you may combine the splits into one single file. We will doing our own data split.\n",
        "\n",
        "If you run the cell below without modifications, it will run on the tweets.csv example data we have provided. It imports some helper functions to demonstrate the task on the sample tweet dataset. You should first run all of the following cells with tweets.csv just to see how everything works. Then, once you understand the whole preprocessing / fine-tuning process, change the csv in the below cell to your **my_data.csv** file, add any extra preprocessing code you wish, and then run the cells again on your own data."
      ]
    },
    {
      "cell_type": "code",
      "metadata": {
        "id": "YGhkeLQlNNr8"
      },
      "source": [
        "from helpers import tokenize_and_format, flat_accuracy\n",
        "import pandas as pd\n",
        "\n",
        "\n",
        "df = pd.DataFrame.from_records(binary_dataset)\n",
        "#df = pd.read_csv('tweets.csv')\n",
        "\n",
        "df = df.sample(frac=1).reset_index(drop=True)\n",
        "\n",
        "texts = df.verse_text.values\n",
        "labels = df.label.values\n",
        "\n",
        "### tokenize_and_format() is a helper function provided in helpers.py ###\n",
        "input_ids, attention_masks = tokenize_and_format(texts)\n",
        "\n",
        "# Convert the lists into tensors.\n",
        "input_ids = torch.cat(input_ids, dim=0)\n",
        "attention_masks = torch.cat(attention_masks, dim=0)\n",
        "labels = torch.tensor(labels)\n",
        "\n",
        "# Print sentence 0, now as a list of IDs.\n",
        "print('Original: ', texts[0])\n",
        "print('Token IDs:', input_ids[0])"
      ],
      "execution_count": null,
      "outputs": []
    },
    {
      "cell_type": "markdown",
      "metadata": {
        "id": "H3D-CzQEUXYz"
      },
      "source": [
        "## Create train/test/validation splits\n",
        "\n",
        "Here we split your dataset into 3 parts: a training set, a validation set, and a testing set. Each item in your dataset will be a 3-tuple containing an input_id tensor, an attention_mask tensor, and a label tensor.\n",
        "\n"
      ]
    },
    {
      "cell_type": "code",
      "metadata": {
        "id": "kGgeZ3M0UWs0"
      },
      "source": [
        "\n",
        "total = len(df)\n",
        "\n",
        "num_train = int(total * .7)\n",
        "num_val = int(total * .1)\n",
        "num_test = total - num_train - num_val\n",
        "\n",
        "# make lists of 3-tuples (already shuffled the dataframe in cell above)\n",
        "\n",
        "train_set = [(input_ids[i], attention_masks[i], labels[i]) for i in range(num_train)]\n",
        "val_set = [(input_ids[i], attention_masks[i], labels[i]) for i in range(num_train, num_val+num_train)]\n",
        "test_set = [(input_ids[i], attention_masks[i], labels[i]) for i in range(num_val + num_train, total)]\n",
        "\n",
        "train_text = [texts[i] for i in range(num_train)]\n",
        "val_text = [texts[i] for i in range(num_train, num_val+num_train)]\n",
        "test_text = [texts[i] for i in range(num_val + num_train, total)]\n"
      ],
      "execution_count": null,
      "outputs": []
    },
    {
      "cell_type": "code",
      "source": [
        "import gc\n",
        "gc.collect()\n",
        "torch.cuda.empty_cache()"
      ],
      "metadata": {
        "id": "4p2Hbn7d3oOw"
      },
      "execution_count": null,
      "outputs": []
    },
    {
      "cell_type": "markdown",
      "metadata": {
        "id": "QCr006iTkqwM"
      },
      "source": [
        "Here we choose the model we want to finetune from https://huggingface.co/transformers/pretrained_models.html. Because the task requires us to label sentences, we wil be using BertForSequenceClassification below. You may see a warning that states that `some weights of the model checkpoint at [model name] were not used when initializing. . .` This warning is expected and means that you should fine-tune your pre-trained model before using it on your downstream task. See [here](https://github.com/huggingface/transformers/issues/5421#issuecomment-652582854) for more info."
      ]
    },
    {
      "cell_type": "code",
      "metadata": {
        "id": "lPo640_ZlEPK"
      },
      "source": [
        "from transformers import BertForSequenceClassification, AdamW, BertConfig\n",
        "\n",
        "model = BertForSequenceClassification.from_pretrained(\n",
        "    \"bert-base-uncased\", # Use the 12-layer BERT model, with an uncased vocab.\n",
        "    num_labels = 2, # The number of output labels.   \n",
        "    output_attentions = False, # Whether the model returns attentions weights.\n",
        "    output_hidden_states = False, # Whether the model returns all hidden-states.\n",
        ")\n",
        "\n",
        "# Tell pytorch to run this model on the GPU.\n",
        "model.cuda()\n"
      ],
      "execution_count": null,
      "outputs": []
    },
    {
      "cell_type": "markdown",
      "metadata": {
        "id": "i3lLdoW_le3M"
      },
      "source": [
        "# <font color=\"red\"> ACTION REQUIRED </font>\n",
        "\n",
        "Define your approach to fine-tuning hyperparameters in the cell below (we have randomly picked some values to start with). We want you to experiment with different configurations to find the one that works best (i.e., highest accuracy) on your validation set. Feel free to also change pretrained models to others available in the HuggingFace library (you'll have to modify the cell above to do this). You might find papers on BERT fine-tuning stability (e.g., [Mosbach et al., ICLR 2021](https://openreview.net/pdf?id=nzpLWnVAyah)) to be of interest."
      ]
    },
    {
      "cell_type": "code",
      "metadata": {
        "id": "Dd2JdC6IletV"
      },
      "source": [
        "batch_size = 99\n",
        "optimizer = AdamW(model.parameters(),\n",
        "                  lr = 5e-5, # args.learning_rate - default is 5e-5\n",
        "                  eps = 1e-7 # args.adam_epsilon  - default is 1e-8\n",
        "                )\n",
        "epochs = 10"
      ],
      "execution_count": null,
      "outputs": []
    },
    {
      "cell_type": "markdown",
      "metadata": {
        "id": "Pd4fwn_el1ge"
      },
      "source": [
        "# Fine-tune your model\n",
        "Here we provide code for fine-tuning your model, monitoring the loss, and checking your validation accuracy. Rerun both of the below cells when you change your hyperparameters above."
      ]
    },
    {
      "cell_type": "code",
      "metadata": {
        "id": "O_Mzr-kd5RaY"
      },
      "source": [
        "import numpy as np\n",
        "# function to get validation accuracy\n",
        "def get_validation_performance(val_set):\n",
        "    # Put the model in evaluation mode\n",
        "    model.eval()\n",
        "\n",
        "    # Tracking variables \n",
        "    total_eval_accuracy = 0\n",
        "    total_eval_loss = 0\n",
        "\n",
        "    num_batches = int(len(val_set)/batch_size) + 1\n",
        "\n",
        "    total_correct = 0\n",
        "\n",
        "    for i in range(num_batches):\n",
        "\n",
        "      end_index = min(batch_size * (i+1), len(val_set))\n",
        "\n",
        "      batch = val_set[i*batch_size:end_index]\n",
        "      \n",
        "      if len(batch) == 0: continue\n",
        "\n",
        "      input_id_tensors = torch.stack([data[0] for data in batch])\n",
        "      input_mask_tensors = torch.stack([data[1] for data in batch])\n",
        "      label_tensors = torch.stack([data[2] for data in batch])\n",
        "      \n",
        "      # Move tensors to the GPU\n",
        "      b_input_ids = input_id_tensors.to(device)\n",
        "      b_input_mask = input_mask_tensors.to(device)\n",
        "      b_labels = label_tensors.to(device)\n",
        "        \n",
        "      # Tell pytorch not to bother with constructing the compute graph during\n",
        "      # the forward pass, since this is only needed for backprop (training).\n",
        "      with torch.no_grad():        \n",
        "\n",
        "        # Forward pass, calculate logit predictions.\n",
        "        outputs = model(b_input_ids, \n",
        "                                token_type_ids=None, \n",
        "                                attention_mask=b_input_mask,\n",
        "                                labels=b_labels)\n",
        "        loss = outputs.loss\n",
        "        logits = outputs.logits\n",
        "            \n",
        "        # Accumulate the validation loss.\n",
        "        total_eval_loss += loss.item()\n",
        "        \n",
        "        # Move logits and labels to CPU\n",
        "        logits = logits.detach().cpu().numpy()\n",
        "        label_ids = b_labels.to('cpu').numpy()\n",
        "\n",
        "        # Calculate the number of correctly labeled examples in batch\n",
        "        pred_flat = np.argmax(logits, axis=1).flatten()\n",
        "        labels_flat = label_ids.flatten()\n",
        "        num_correct = np.sum(pred_flat == labels_flat)\n",
        "        total_correct += num_correct\n",
        "        \n",
        "    # Report the final accuracy for this validation run.\n",
        "    avg_val_accuracy = total_correct / len(val_set)\n",
        "    return avg_val_accuracy\n",
        "\n"
      ],
      "execution_count": null,
      "outputs": []
    },
    {
      "cell_type": "code",
      "metadata": {
        "id": "HTf_ipbjWNoV"
      },
      "source": [
        "import random\n",
        "\n",
        "# training loop\n",
        "\n",
        "# For each epoch...\n",
        "for epoch_i in range(0, epochs):\n",
        "    # Perform one full pass over the training set.\n",
        "\n",
        "    print(\"\")\n",
        "    print('======== Epoch {:} / {:} ========'.format(epoch_i + 1, epochs))\n",
        "    print('Training...')\n",
        "\n",
        "    # Reset the total loss for this epoch.\n",
        "    total_train_loss = 0\n",
        "\n",
        "    # Put the model into training mode.\n",
        "    model.train()\n",
        "\n",
        "    # For each batch of training data...\n",
        "    num_batches = int(len(train_set)/batch_size) + 1\n",
        "\n",
        "    for i in range(num_batches):\n",
        "      end_index = min(batch_size * (i+1), len(train_set))\n",
        "\n",
        "      batch = train_set[i*batch_size:end_index]\n",
        "\n",
        "      if len(batch) == 0: continue\n",
        "\n",
        "      input_id_tensors = torch.stack([data[0] for data in batch])\n",
        "      input_mask_tensors = torch.stack([data[1] for data in batch])\n",
        "      label_tensors = torch.stack([data[2] for data in batch])\n",
        "\n",
        "      # Move tensors to the GPU\n",
        "      b_input_ids = input_id_tensors.to(device)\n",
        "      b_input_mask = input_mask_tensors.to(device)\n",
        "      b_labels = label_tensors.to(device)\n",
        "\n",
        "      # Clear the previously calculated gradient\n",
        "      model.zero_grad()        \n",
        "\n",
        "      # Perform a forward pass (evaluate the model on this training batch).\n",
        "      outputs = model(b_input_ids, \n",
        "                            token_type_ids=None, \n",
        "                            attention_mask=b_input_mask, \n",
        "                            labels=b_labels)\n",
        "      loss = outputs.loss\n",
        "      logits = outputs.logits\n",
        "\n",
        "      total_train_loss += loss.item()\n",
        "\n",
        "      # Perform a backward pass to calculate the gradients.\n",
        "      loss.backward()\n",
        "\n",
        "      # Update parameters and take a step using the computed gradient.\n",
        "      optimizer.step()\n",
        "        \n",
        "    # ========================================\n",
        "    #               Validation\n",
        "    # ========================================\n",
        "    # After the completion of each training epoch, measure our performance on\n",
        "    # our validation set. Implement this function in the cell above.\n",
        "    print(f\"Total loss: {total_train_loss}\")\n",
        "    val_acc = get_validation_performance(val_set)\n",
        "    print(f\"Validation accuracy: {val_acc}\")\n",
        "    \n",
        "print(\"\")\n",
        "print(\"Training complete!\")\n"
      ],
      "execution_count": null,
      "outputs": []
    },
    {
      "cell_type": "markdown",
      "metadata": {
        "id": "J9DpRJE5mHkO"
      },
      "source": [
        "# Evaluate your model on the test set\n",
        "After you're satisfied with your hyperparameters (i.e., you're unable to achieve higher validation accuracy by modifying them further), it's time to evaluate your model on the test set! Run the below cell to compute test set accuracy.\n"
      ]
    },
    {
      "cell_type": "code",
      "metadata": {
        "id": "msvZ78ii3cZZ"
      },
      "source": [
        "get_validation_performance(test_set)"
      ],
      "execution_count": null,
      "outputs": []
    },
    {
      "cell_type": "markdown",
      "metadata": {
        "id": "IcMT5aih8xEb"
      },
      "source": [
        "## Question 2.1 (10 points):\n",
        "Congratulations! You've now gone through the entire fine-tuning process and created a model for your downstream task. Describe your hyperparameter selection process in words. If you based your process on any research papers or websites, please reference them. Why do you think the hyperparameters you ended up choosing worked better than others? Also, is there a significant discrepancy between your test and validation accuracy? Why do you think this is the case?"
      ]
    },
    {
      "cell_type": "markdown",
      "source": [
        "#### <font color=\"red\">Write your answer here </font>\n",
        "I used a nested for loop to loop over a couple reasonable value of learning rates( from 5e-1 to 5e-19), and some adam_epsilon values (from 1e-1 to 1e-19). From this process, I found the default learning rate produces the biggest accuracy, and by increasing the epoch to 10 and decreasing the adam_epsilon values to 1e-7. Since the epochs means the one complete iteration over the entire dataset during training, I noticed that after 5 epochs, the loss hasn't stop decreasing, so it is not converged yet to optimal soltion, that is why I increase the epoch to 10. For adam_epsilon value, since the dataset I worked on is pretty small, so I tuned this parameter a bit to make sure the gradient 's fluctuation won't affect the result. The validation result is 0.96 accuracy and the actual test result is 0.91 accuracy, so there is no significant discrepancy between test and validation accuracy. I think this difference here is mostly due to a slight overfitting to a small dataset. "
      ],
      "metadata": {
        "id": "YuQajggF2FPq"
      }
    },
    {
      "cell_type": "markdown",
      "metadata": {
        "id": "NBbdMwt79fIs"
      },
      "source": [
        "## Question 2.2 (20 points):\n",
        "(Involves both coding, and a written answer)\n",
        "Finally, perform an *error analysis* on your model. This is good practice for your final project. **Write some code** in the below code cell to print out the text five test set examples that your model gets **wrong**. If your model gets more than five test examples wrong, randomly choose five of them to analyze. If your model gets fewer than five examples wrong, please design five test examples that fool your model (i.e., *adversarial examples*). Then, in the following text cell, perform a qualitative analysis of these examples. See if you can figure out any reasons for errors that you observe, or if you have any informed guesses (e.g., common linguistic properties of these particular examples). Does this analysis suggest any possible future steps to improve your classifier?"
      ]
    },
    {
      "cell_type": "code",
      "source": [
        "\n",
        "def get_errors(val_set):\n",
        "    # Put the model in evaluation mode\n",
        "    model.eval()\n",
        "\n",
        "    # Tracking variables \n",
        "\n",
        "    input_id_tensors = torch.stack([data[0] for data in val_set])\n",
        "    input_mask_tensors = torch.stack([data[1] for data in val_set])\n",
        "    label_tensors = torch.stack([data[2] for data in val_set])\n",
        "      \n",
        "    # Move tensors to the GPU\n",
        "    b_input_ids = input_id_tensors.to(device)\n",
        "    b_input_mask = input_mask_tensors.to(device)\n",
        "    b_labels = label_tensors.to(device)\n",
        "        \n",
        "    # Tell pytorch not to bother with constructing the compute graph during\n",
        "    # the forward pass, since this is only needed for backprop (training).\n",
        "    with torch.no_grad():        \n",
        "\n",
        "      # Forward pass, calculate logit predictions.\n",
        "      outputs = model(b_input_ids, \n",
        "                              token_type_ids=None, \n",
        "                              attention_mask=b_input_mask,\n",
        "                              labels=b_labels)\n",
        "\n",
        "  \n",
        "      logits = outputs.logits\n",
        "\n",
        "      # Move logits and labels to CPU\n",
        "      logits = logits.detach().cpu().numpy()\n",
        "      label_ids = b_labels.to('cpu').numpy()\n",
        "\n",
        "      # Calculate the number of correctly labeled examples in batch\n",
        "      pred_flat = np.argmax(logits, axis=1).flatten()\n",
        "      labels_flat = label_ids.flatten()\n",
        "\n",
        "\n",
        "    return [i for i, item in enumerate(zip(pred_flat,labels_flat)) if item[0] != item[1]]\n",
        "\n",
        "err_lst = get_errors(test_set)\n",
        "test_set_pre_embedding = binary_dataset[num_val + num_train:]\n",
        "for ind in err_lst:\n",
        "  print(test_set_pre_embedding[ind])\n"
      ],
      "metadata": {
        "id": "Z9n9b34q3YlP"
      },
      "execution_count": null,
      "outputs": []
    },
    {
      "cell_type": "markdown",
      "source": [
        "### <font color=\"red\">Provide a qualitative analysis of the above examples here. \n",
        " </font>\n",
        "From the five errors above, it seems the above verses have sentiments expressed with verb + noun instead of adjective. And the text are pretty abstract with these un-common word. I think the mistake is due to this small training dataset, it is hard to predict these vocabulary, especially short phrases meaning without seeing recurring example. So increase training dataset size will be a way to improve this. Another point I noticed is that a lot of verb with sentiments are with past tense. Maybe while processing training data, we can do some pre-processing to handle tense so a same verb in a training set can be learned more effectively. \n"
      ],
      "metadata": {
        "id": "F3iIs7xw2DMy"
      }
    },
    {
      "cell_type": "markdown",
      "metadata": {
        "id": "szIkBDiQ_Mkv"
      },
      "source": [
        "\n",
        "\n",
        "# <font color=\"blue\"> Submission Instructions</font>\n",
        "\n",
        "1. Click the Save button at the top of the Jupyter Notebook.\n",
        "2. Select Edit -> Clear All Outputs. This will clear all the outputs from all cells (but will keep the content of all cells). \n",
        "3. Select Runtime -> Run All. This will run all the cells in order, and will take several minutes.\n",
        "4. Once you've rerun everything, select File -> Download as -> PDF via LaTeX (If you have trouble using \"PDF via LaTex\", you can also save the webpage as pdf. <font color='blue'> Make sure all your solutions especially the coding parts are displayed in the pdf</font>, it's okay if the provided codes get cut off because lines are not wrapped in code cells).\n",
        "5. Look at the PDF file and make sure all your solutions are there, displayed correctly. The PDF is the only thing your graders will see!\n",
        "6. Submit your PDF on Gradescope.\n",
        "\n",
        "\n",
        "#### <font color=\"blue\"> Acknowledgements</font>\n",
        "This assignment is based on an assignment developed by Mohit Iyyer\n"
      ]
    }
  ]
}